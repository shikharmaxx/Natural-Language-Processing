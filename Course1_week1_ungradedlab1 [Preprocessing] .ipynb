{
 "cells": [
  {
   "cell_type": "code",
   "execution_count": 3,
   "metadata": {
    "ExecuteTime": {
     "end_time": "2020-08-01T19:05:36.898326Z",
     "start_time": "2020-08-01T19:05:34.918000Z"
    }
   },
   "outputs": [],
   "source": [
    "import nltk\n",
    "import matplotlib.pyplot as plt\n",
    "import random\n"
   ]
  },
  {
   "cell_type": "code",
   "execution_count": 4,
   "metadata": {
    "ExecuteTime": {
     "end_time": "2020-08-01T19:05:36.908323Z",
     "start_time": "2020-08-01T19:05:36.902454Z"
    }
   },
   "outputs": [],
   "source": [
    "# nltk.download('twitter_samples')"
   ]
  },
  {
   "cell_type": "code",
   "execution_count": 5,
   "metadata": {
    "ExecuteTime": {
     "end_time": "2020-08-01T19:05:36.922323Z",
     "start_time": "2020-08-01T19:05:36.916320Z"
    }
   },
   "outputs": [],
   "source": [
    "from nltk.corpus import twitter_samples"
   ]
  },
  {
   "cell_type": "code",
   "execution_count": 6,
   "metadata": {
    "ExecuteTime": {
     "end_time": "2020-08-01T19:05:40.245502Z",
     "start_time": "2020-08-01T19:05:36.927326Z"
    }
   },
   "outputs": [],
   "source": [
    "all_positive_tweets = twitter_samples.strings('positive_tweets.json')\n",
    "all_negative_tweets = twitter_samples.strings('negative_tweets.json')"
   ]
  },
  {
   "cell_type": "code",
   "execution_count": 7,
   "metadata": {
    "ExecuteTime": {
     "end_time": "2020-08-01T19:05:40.258522Z",
     "start_time": "2020-08-01T19:05:40.247513Z"
    }
   },
   "outputs": [
    {
     "name": "stdout",
     "output_type": "stream",
     "text": [
      "number of positive tweets :  5000\n",
      "number of negative tweets :  5000\n",
      "Type of all positive tweets is :  <class 'list'>\n",
      "The type a tweet entry is :  <class 'str'>\n"
     ]
    }
   ],
   "source": [
    "print(\"number of positive tweets : \",len(all_positive_tweets))\n",
    "print(\"number of negative tweets : \",len(all_negative_tweets))\n",
    "\n",
    "print(\"Type of all positive tweets is : \",type(all_positive_tweets))\n",
    "print(\"The type a tweet entry is : \",type(all_positive_tweets[0]))"
   ]
  },
  {
   "cell_type": "code",
   "execution_count": 9,
   "metadata": {
    "ExecuteTime": {
     "end_time": "2020-08-01T19:05:40.303508Z",
     "start_time": "2020-08-01T19:05:40.299508Z"
    }
   },
   "outputs": [
    {
     "name": "stdout",
     "output_type": "stream",
     "text": [
      "Everything in the kids section of IKEA is so cute. Shame I'm nearly 19 in 2 months :(\n"
     ]
    }
   ],
   "source": [
    "print(all_negative_tweets[1])"
   ]
  },
  {
   "cell_type": "markdown",
   "metadata": {},
   "source": [
    "WE can see above that the data is in list form and each element of that list is a tweet with the datatype string"
   ]
  },
  {
   "cell_type": "code",
   "execution_count": 16,
   "metadata": {
    "ExecuteTime": {
     "end_time": "2020-08-01T19:12:59.825430Z",
     "start_time": "2020-08-01T19:12:59.626572Z"
    }
   },
   "outputs": [
    {
     "data": {
      "image/png": "[encoded data removed]",
      "text/plain": [
       "<Figure size 288x288 with 1 Axes>"
      ]
     },
     "metadata": {},
     "output_type": "display_data"
    }
   ],
   "source": [
    "fig = plt.figure(figsize=(4,4))\n",
    "\n",
    "labels = 'Positive' , 'Negative'\n",
    "\n",
    "sizes = [len(all_positive_tweets) , len(all_negative_tweets)]\n",
    "\n",
    "plt.pie(sizes,labels=labels,autopct='%1.1f',shadow=False,startangle=90)\n",
    "\n",
    "plt.axis('equal')\n",
    "\n",
    "plt.show()"
   ]
  },
  {
   "cell_type": "code",
   "execution_count": 21,
   "metadata": {
    "ExecuteTime": {
     "end_time": "2020-08-01T19:16:01.646022Z",
     "start_time": "2020-08-01T19:16:01.634328Z"
    }
   },
   "outputs": [
    {
     "name": "stdout",
     "output_type": "stream",
     "text": [
      "\u001b[92m@BowenBBC beautiful...winter? It's like summer in Russia :)\n",
      "\u001b[91m@howeverhood @bubblegumcam one year later and we haven't even met :(\n"
     ]
    }
   ],
   "source": [
    "# printing the positive text in green\n",
    "print('\\033[92m' + all_positive_tweets[random.randint(0,5000)])\n",
    "\n",
    "#printing negative in red\n",
    "print('\\033[91m' + all_negative_tweets[random.randint(0,5000)])"
   ]
  },
  {
   "cell_type": "markdown",
   "metadata": {},
   "source": [
    "Preprocessing is an important part of sentiment analysis\n",
    "\n",
    "these are the following tasks :\n",
    "\n",
    "-tokenizing the string\n",
    "\n",
    "-lowercasing\n",
    "\n",
    "-removing stop words and punctutation\n",
    "\n",
    "-stemming\n"
   ]
  },
  {
   "cell_type": "code",
   "execution_count": 23,
   "metadata": {
    "ExecuteTime": {
     "end_time": "2020-08-01T19:18:43.287171Z",
     "start_time": "2020-08-01T19:18:43.274368Z"
    }
   },
   "outputs": [
    {
     "name": "stdout",
     "output_type": "stream",
     "text": [
      "My beautiful sunflowers on a sunny Friday morning off :) #sunflowers #favourites #happy #Friday off… https://t.co/3tfYom0N1i\n"
     ]
    }
   ],
   "source": [
    "# lets select one tweet and do all that steps on it\n",
    "\n",
    "tweet = all_positive_tweets[2277]\n",
    "print(tweet)"
   ]
  },
  {
   "cell_type": "code",
   "execution_count": 24,
   "metadata": {
    "ExecuteTime": {
     "end_time": "2020-08-01T19:19:09.667914Z",
     "start_time": "2020-08-01T19:19:07.882231Z"
    }
   },
   "outputs": [
    {
     "name": "stderr",
     "output_type": "stream",
     "text": [
      "[nltk_data] Downloading package stopwords to\n",
      "[nltk_data]     C:\\Users\\shikh\\AppData\\Roaming\\nltk_data...\n",
      "[nltk_data]   Unzipping corpora\\stopwords.zip.\n"
     ]
    },
    {
     "data": {
      "text/plain": [
       "True"
      ]
     },
     "execution_count": 24,
     "metadata": {},
     "output_type": "execute_result"
    }
   ],
   "source": [
    "nltk.download('stopwords')"
   ]
  },
  {
   "cell_type": "code",
   "execution_count": 26,
   "metadata": {
    "ExecuteTime": {
     "end_time": "2020-08-01T19:21:34.393462Z",
     "start_time": "2020-08-01T19:21:34.377561Z"
    }
   },
   "outputs": [],
   "source": [
    "import re                            # for regular expression\n",
    "import string                         # for string operations\n",
    "\n",
    "from nltk.corpus import stopwords  #module for stop words that come with NLTK\n",
    "from nltk.stem import PorterStemmer    #module for stemming \n",
    "from nltk.tokenize import TweetTokenizer  # for tokenizing strings\n"
   ]
  },
  {
   "cell_type": "markdown",
   "metadata": {},
   "source": [
    "We will now remove some commonly used substrings like hashtags, retweet marks and hyperlinks using the re library"
   ]
  },
  {
   "cell_type": "code",
   "execution_count": 28,
   "metadata": {
    "ExecuteTime": {
     "end_time": "2020-08-01T19:26:47.185056Z",
     "start_time": "2020-08-01T19:26:47.172913Z"
    }
   },
   "outputs": [
    {
     "name": "stdout",
     "output_type": "stream",
     "text": [
      "\u001b[92mMy beautiful sunflowers on a sunny Friday morning off :) #sunflowers #favourites #happy #Friday off… https://t.co/3tfYom0N1i\n",
      "\u001b[94mMy beautiful sunflowers on a sunny Friday morning off :) sunflowers favourites happy Friday off… \n"
     ]
    }
   ],
   "source": [
    "print('\\033[92m' + tweet)\n",
    "\n",
    "#remove the old style retweet text \"RT\"\n",
    "tweet2 = re.sub( r'^RT[\\s]+' , '' ,tweet)\n",
    "\n",
    "#remove hyperlinks\n",
    "tweet2 = re.sub(r'https?:\\/\\/.*[\\r\\n]*' , '' , tweet2)\n",
    "\n",
    "#remove hashtag (only the # sign)\n",
    "tweet2 = re.sub(r'#' , '' ,tweet2)\n",
    "\n",
    "print('\\033[94m' + tweet2)\n"
   ]
  },
  {
   "cell_type": "markdown",
   "metadata": {},
   "source": [
    "TOKENIZE THE STRING into individual words without blanks or tabs and also convert them into lowercase"
   ]
  },
  {
   "cell_type": "code",
   "execution_count": 33,
   "metadata": {
    "ExecuteTime": {
     "end_time": "2020-08-01T19:31:47.204232Z",
     "start_time": "2020-08-01T19:31:47.195820Z"
    }
   },
   "outputs": [
    {
     "name": "stdout",
     "output_type": "stream",
     "text": [
      "\u001b[92mMy beautiful sunflowers on a sunny Friday morning off :) sunflowers favourites happy Friday off… \n",
      "\u001b[94m\n",
      "\n",
      "Tokenized string : \n",
      "['my', 'beautiful', 'sunflowers', 'on', 'a', 'sunny', 'friday', 'morning', 'off', ':)', 'sunflowers', 'favourites', 'happy', 'friday', 'off', '…']\n"
     ]
    }
   ],
   "source": [
    "print('\\033[92m' + tweet2)\n",
    "\n",
    "#instantiate the tokenizer class\n",
    "tokenizer = TweetTokenizer(preserve_case=False,\n",
    "                          strip_handles=True,\n",
    "                          reduce_len = True)\n",
    "\n",
    "#tokenize tweets\n",
    "tweet_tokens = tokenizer.tokenize(tweet2)\n",
    "\n",
    "print('\\033[94m')\n",
    "print('\\nTokenized string : ')\n",
    "print(tweet_tokens)"
   ]
  },
  {
   "cell_type": "markdown",
   "metadata": {},
   "source": [
    "Next step is to remove stop words and punctuation.\n",
    "stop words are words that dont add any significant meaning to the text"
   ]
  },
  {
   "cell_type": "code",
   "execution_count": 36,
   "metadata": {
    "ExecuteTime": {
     "end_time": "2020-08-01T19:34:19.703627Z",
     "start_time": "2020-08-01T19:34:19.689376Z"
    }
   },
   "outputs": [
    {
     "name": "stdout",
     "output_type": "stream",
     "text": [
      "Stop words\n",
      "\n",
      "['i', 'me', 'my', 'myself', 'we', 'our', 'ours', 'ourselves', 'you', \"you're\", \"you've\", \"you'll\", \"you'd\", 'your', 'yours', 'yourself', 'yourselves', 'he', 'him', 'his', 'himself', 'she', \"she's\", 'her', 'hers', 'herself', 'it', \"it's\", 'its', 'itself', 'they', 'them', 'their', 'theirs', 'themselves', 'what', 'which', 'who', 'whom', 'this', 'that', \"that'll\", 'these', 'those', 'am', 'is', 'are', 'was', 'were', 'be', 'been', 'being', 'have', 'has', 'had', 'having', 'do', 'does', 'did', 'doing', 'a', 'an', 'the', 'and', 'but', 'if', 'or', 'because', 'as', 'until', 'while', 'of', 'at', 'by', 'for', 'with', 'about', 'against', 'between', 'into', 'through', 'during', 'before', 'after', 'above', 'below', 'to', 'from', 'up', 'down', 'in', 'out', 'on', 'off', 'over', 'under', 'again', 'further', 'then', 'once', 'here', 'there', 'when', 'where', 'why', 'how', 'all', 'any', 'both', 'each', 'few', 'more', 'most', 'other', 'some', 'such', 'no', 'nor', 'not', 'only', 'own', 'same', 'so', 'than', 'too', 'very', 's', 't', 'can', 'will', 'just', 'don', \"don't\", 'should', \"should've\", 'now', 'd', 'll', 'm', 'o', 're', 've', 'y', 'ain', 'aren', \"aren't\", 'couldn', \"couldn't\", 'didn', \"didn't\", 'doesn', \"doesn't\", 'hadn', \"hadn't\", 'hasn', \"hasn't\", 'haven', \"haven't\", 'isn', \"isn't\", 'ma', 'mightn', \"mightn't\", 'mustn', \"mustn't\", 'needn', \"needn't\", 'shan', \"shan't\", 'shouldn', \"shouldn't\", 'wasn', \"wasn't\", 'weren', \"weren't\", 'won', \"won't\", 'wouldn', \"wouldn't\"]\n",
      "\n",
      "Punctutation\n",
      "\n",
      "!\"#$%&'()*+,-./:;<=>?@[\\]^_`{|}~\n"
     ]
    }
   ],
   "source": [
    "#importing the english stop words from nltk\n",
    "stopwords_english = stopwords.words('english')\n",
    "\n",
    "print('Stop words\\n')\n",
    "print(stopwords_english)\n",
    "\n",
    "print('\\nPunctutation\\n')\n",
    "print(string.punctuation)"
   ]
  },
  {
   "cell_type": "markdown",
   "metadata": {},
   "source": [
    "We can see that the stop words list above contains some words that could be important in some contexts. These could be words like i, not, between, because, won, against. You might need to customize the stop words list for some applications. For our exercise, we will use the entire list.\n",
    "\n",
    "For the punctuation, we saw earlier that certain groupings like ':)' and '...' should be retained when dealing with tweets because they are used to express emotions. In other contexts, like medical analysis, these should also be removed."
   ]
  },
  {
   "cell_type": "code",
   "execution_count": 38,
   "metadata": {
    "ExecuteTime": {
     "end_time": "2020-08-01T19:38:21.951431Z",
     "start_time": "2020-08-01T19:38:21.941271Z"
    }
   },
   "outputs": [
    {
     "name": "stdout",
     "output_type": "stream",
     "text": [
      "\u001b[92m\n",
      "['my', 'beautiful', 'sunflowers', 'on', 'a', 'sunny', 'friday', 'morning', 'off', ':)', 'sunflowers', 'favourites', 'happy', 'friday', 'off', '…']\n",
      "\u001b[94m\n",
      "after the removal of stopm words and puncs :\n",
      "['beautiful', 'sunflowers', 'sunny', 'friday', 'morning', ':)', 'sunflowers', 'favourites', 'happy', 'friday', '…']\n"
     ]
    }
   ],
   "source": [
    "#time to clean up our tokenized tweet\n",
    "print('\\033[92m')\n",
    "print(tweet_tokens)\n",
    "\n",
    "tweets_clean = []\n",
    "\n",
    "for word in tweet_tokens:\n",
    "    if(word not in stopwords_english \n",
    "       and \n",
    "       word not in string.punctuation):\n",
    "        tweets_clean.append(word)\n",
    "\n",
    "print('\\033[94m')\n",
    "print(\"after the removal of stopm words and puncs :\")\n",
    "print(tweets_clean)\n",
    "        "
   ]
  },
  {
   "cell_type": "markdown",
   "metadata": {},
   "source": [
    "### STEmming\n",
    "process to convert a word to its most general form or stem\n",
    "this helps to reduce the size of the vocabulary\n",
    "\n",
    "consider the words:\n",
    "-learn\n",
    "\n",
    "-learning\n",
    "\n",
    "-learned\n",
    "\n",
    "-learnt\n",
    "\n",
    "all these words are stemmed from its common root 'learn'.\n",
    "\n",
    "in some cases the stemming will produce words that are not correct inn the speeling, example - happi, sunni etc.\n",
    "because it chooses the most common stem for related words.\n",
    "\n",
    "happy\n",
    "happiness\n",
    "happier\n",
    "\n",
    "happi is the most commonly used in all these\n",
    "\n",
    "we cant choose happ because it a a root for happen."
   ]
  },
  {
   "cell_type": "code",
   "execution_count": 42,
   "metadata": {
    "ExecuteTime": {
     "end_time": "2020-08-01T19:45:55.060723Z",
     "start_time": "2020-08-01T19:45:55.037646Z"
    }
   },
   "outputs": [
    {
     "name": "stdout",
     "output_type": "stream",
     "text": [
      "\u001b[92m\n",
      "['beautiful', 'sunflowers', 'sunny', 'friday', 'morning', ':)', 'sunflowers', 'favourites', 'happy', 'friday', '…']\n",
      "\u001b[94m\n",
      "stemmed words : \n",
      "['beauti', 'sunflow', 'sunni', 'friday', 'morn', ':)', 'sunflow', 'favourit', 'happi', 'friday', '…']\n"
     ]
    }
   ],
   "source": [
    "print('\\033[92m')\n",
    "print(tweets_clean)\n",
    "\n",
    "#instantiate the stemming class\n",
    "stemmer = PorterStemmer()\n",
    "\n",
    "#create an empty list to store the stems\n",
    "tweets_stem = []\n",
    "\n",
    "for word in tweets_clean:\n",
    "    stem_word = stemmer.stem(word)  #stemming word\n",
    "    tweets_stem.append(stem_word)\n",
    "\n",
    "print('\\033[94m')\n",
    "print('stemmed words : ')\n",
    "print(tweets_stem)"
   ]
  },
  {
   "cell_type": "markdown",
   "metadata": {},
   "source": [
    "the end"
   ]
  },
  {
   "cell_type": "markdown",
   "metadata": {},
   "source": [
    "process_tweet()\n",
    "\n",
    "this is a function implemented that we will use to do it in a single step\n"
   ]
  },
  {
   "cell_type": "code",
   "execution_count": 43,
   "metadata": {
    "ExecuteTime": {
     "end_time": "2020-08-01T19:49:00.158514Z",
     "start_time": "2020-08-01T19:49:00.153281Z"
    }
   },
   "outputs": [],
   "source": [
    "# tweet = all_positive_tweets[2277]\n",
    "# tweet_final = process_tweet(tweet)\n",
    "#print(tweet_final)"
   ]
  },
  {
   "cell_type": "code",
   "execution_count": null,
   "metadata": {},
   "outputs": [],
   "source": []
  }
 ],
 "metadata": {
  "kernelspec": {
   "display_name": "python3NLP",
   "language": "python",
   "name": "python3nlp"
  },
  "language_info": {
   "codemirror_mode": {
    "name": "ipython",
    "version": 3
   },
   "file_extension": ".py",
   "mimetype": "text/x-python",
   "name": "python",
   "nbconvert_exporter": "python",
   "pygments_lexer": "ipython3",
   "version": "3.7.7"
  }
 },
 "nbformat": 4,
 "nbformat_minor": 4
}