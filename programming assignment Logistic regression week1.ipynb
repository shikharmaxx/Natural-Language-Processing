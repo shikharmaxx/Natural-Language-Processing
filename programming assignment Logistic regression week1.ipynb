{
 "cells": [
  {
   "cell_type": "code",
   "execution_count": 40,
   "metadata": {},
   "outputs": [],
   "source": [
    "import nltk\n",
    "import numpy as np\n",
    "import pandas as pd\n",
    "from nltk.corpus import twitter_samples"
   ]
  },
  {
   "cell_type": "code",
   "execution_count": 42,
   "metadata": {},
   "outputs": [],
   "source": [
    "import re\n",
    "import string\n",
    "from nltk.corpus import stopwords\n",
    "from nltk.stem import PorterStemmer\n",
    "from nltk.tokenize import TweetTokenizer\n",
    "\n",
    "def process_tweets(tweet):\n",
    "    #remove the old style retweet text \"RT\"\n",
    "    tweet2 = re.sub( r'^RT[\\s]+' , '' ,tweet)\n",
    "\n",
    "    #remove hyperlinks\n",
    "    tweet2 = re.sub(r'https?:\\/\\/.*[\\r\\n]*' , '' ,      tweet2)\n",
    "\n",
    "    #remove hashtag (only the # sign)\n",
    "    tweet2 = re.sub(r'#' , '' ,tweet2)\n",
    "\n",
    "    #instantiate the tokenizer class\n",
    "    tokenizer = TweetTokenizer  (preserve_case=False,\n",
    "                          strip_handles=True,\n",
    "                          reduce_len = True)\n",
    "\n",
    "    #tokenize tweets\n",
    "    tweet_tokens = tokenizer.tokenize(tweet2)\n",
    "\n",
    "    #importing the english stop words from nltk\n",
    "    stopwords_english = stopwords.words('english')\n",
    "\n",
    "    tweets_clean = []\n",
    "\n",
    "    for word in tweet_tokens:\n",
    "        if(word not in stopwords_english \n",
    "        and \n",
    "        word not in string.punctuation):\n",
    "            tweets_clean.append(word)\n",
    "    \n",
    "    stemmer = PorterStemmer()\n",
    "\n",
    "    #create an empty list to store the stems\n",
    "    tweets_stem = []\n",
    "\n",
    "    for word in tweets_clean:\n",
    "        stem_word = stemmer.stem(word)  \n",
    "        #stemming word\n",
    "        tweets_stem.append(stem_word)\n",
    "    \n",
    "    return tweets_stem"
   ]
  },
  {
   "cell_type": "code",
   "execution_count": 43,
   "metadata": {},
   "outputs": [],
   "source": [
    "def build_freqs(tweets , ys):\n",
    "    \"\"\"Build frequencies\n",
    "    input:\n",
    "        tweets : a list of tweets\n",
    "        ys: an mx1 array with the sentiment label of each tweet(either 0 or 1)\n",
    "    output:\n",
    "        freqs: a dictionary mapping each (word,sentiment) pair to its frequency\n",
    "        \"\"\"\n",
    "    \n",
    "    #convert the np array to list since zip needs an iterble\n",
    "    # The squeeze is necessary or the list ends up with  one element\n",
    "    # also note that this is just a NOP if ys is already a list\n",
    "     \n",
    "    yslist = np.squeeze(ys).tolist()\n",
    "\n",
    "    #start with an empty dictionary and populate it by looping  over all tweets\n",
    "    # and over all processed words in each tweet\n",
    "    freqs={}\n",
    "\n",
    "    for y , tweet in zip(yslist , tweets):\n",
    "        for word in process_tweets(tweet):\n",
    "            pair =  (word,y)\n",
    "            if pair in freqs:\n",
    "                freqs[pair] += 1\n",
    "            else:\n",
    "                freqs[pair] = 1\n",
    "    return freqs"
   ]
  },
  {
   "cell_type": "code",
   "execution_count": 44,
   "metadata": {},
   "outputs": [],
   "source": [
    "all_positive_tweets = twitter_samples.strings('positive_tweets.json')\n",
    "all_negative_tweets = twitter_samples.strings('negative_tweets.json')"
   ]
  },
  {
   "cell_type": "code",
   "execution_count": 45,
   "metadata": {},
   "outputs": [],
   "source": [
    "# training and testing split\n",
    "test_pos = all_positive_tweets[4000:]\n",
    "train_pos = all_positive_tweets[:4000]\n",
    "test_neg = all_negative_tweets[4000:]\n",
    "train_neg = all_negative_tweets[:4000]\n",
    "\n",
    "train_x = train_pos + train_neg\n",
    "test_x = test_pos + test_neg\n"
   ]
  },
  {
   "cell_type": "code",
   "execution_count": 46,
   "metadata": {},
   "outputs": [],
   "source": [
    "#combine positive and negative labels\n",
    "train_y = np.append(np.ones(( len(train_pos),1 )) , np.zeros((len(train_neg),1)),axis =0 )\n",
    "test_y = np.append(np.ones(( len(test_pos),1 )) , np.zeros((len(test_neg),1)),axis =0 )"
   ]
  },
  {
   "cell_type": "code",
   "execution_count": 47,
   "metadata": {
    "tags": []
   },
   "outputs": [
    {
     "output_type": "stream",
     "name": "stdout",
     "text": "train_y.shape = (8000, 1)\ntest_y.shape = (2000, 1)\n"
    }
   ],
   "source": [
    "print(\"train_y.shape = \" + str(train_y.shape))\n",
    "print(\"test_y.shape = \" + str(test_y.shape))"
   ]
  },
  {
   "cell_type": "code",
   "execution_count": 48,
   "metadata": {
    "tags": []
   },
   "outputs": [
    {
     "output_type": "stream",
     "name": "stdout",
     "text": "type(freqs) = <class 'dict'>\nlen (freqs) = 11339\n"
    }
   ],
   "source": [
    "# create frequency duictionary\n",
    "freqs = build_freqs(train_x,train_y)\n",
    "\n",
    "print(\"type(freqs) = \"+str(type(freqs)))\n",
    "print(\"len (freqs) = \"+str(len(freqs.keys())))"
   ]
  },
  {
   "cell_type": "code",
   "execution_count": 49,
   "metadata": {
    "tags": []
   },
   "outputs": [
    {
     "output_type": "stream",
     "name": "stdout",
     "text": "This is an example of a positive tweet: \n #FollowFriday @France_Inte @PKuchly57 @Milipol_Paris for being top engaged members in my community this week :)\n\nThis is an example of the processed version of the tweet: \n ['followfriday', 'top', 'engag', 'member', 'commun', 'week', ':)']\n"
    }
   ],
   "source": [
    "# test the function below\n",
    "print('This is an example of a positive tweet: \\n', train_x[0])\n",
    "print('\\nThis is an example of the processed version of the tweet: \\n', process_tweets(train_x[0]))"
   ]
  },
  {
   "cell_type": "markdown",
   "metadata": {},
   "source": [
    "# PART 1 LOGISTIC REGRESSION"
   ]
  },
  {
   "cell_type": "markdown",
   "metadata": {},
   "source": [
    "## part 1.1 sigmoid"
   ]
  },
  {
   "cell_type": "code",
   "execution_count": 50,
   "metadata": {},
   "outputs": [],
   "source": [
    "# UNQ_C1\n",
    "# code to be submitted\n",
    "def sigmoid(z):\n",
    "    import math\n",
    "    h = 1 / (1 + math.exp(-z) )\n",
    "    return h"
   ]
  },
  {
   "cell_type": "code",
   "execution_count": 51,
   "metadata": {
    "tags": []
   },
   "outputs": [
    {
     "output_type": "stream",
     "name": "stdout",
     "text": "SUCCESS!\nCORRECT!\n"
    }
   ],
   "source": [
    "# Testing your function \n",
    "if (sigmoid(0) == 0.5):\n",
    "    print('SUCCESS!')\n",
    "else:\n",
    "    print('Oops!')\n",
    "\n",
    "if (sigmoid(4.92) == 0.9927537604041685):\n",
    "    print('CORRECT!')\n",
    "else:\n",
    "    print('Oops again!')"
   ]
  },
  {
   "cell_type": "markdown",
   "metadata": {},
   "source": [
    "## part 1.2 cost function and gradient"
   ]
  },
  {
   "cell_type": "code",
   "execution_count": 52,
   "metadata": {},
   "outputs": [
    {
     "output_type": "execute_result",
     "data": {
      "text/plain": "9.210340371976182"
     },
     "metadata": {},
     "execution_count": 52
    }
   ],
   "source": [
    "# log(0) -> log(1) == -inf -> 0\n",
    "# h(z)for ith example if equal to y gives 0\n",
    "# if they are not then log gives a big positive value\n",
    "\n",
    "# verify that when the model predicts close to 1, but the actual label is 0, the loss is a large positive value\n",
    "#lets take y 0.99 and hz as 0\n",
    "-1*( (1*np.log(0.0001)) + (1-1)*(np.log(1-0.0001)) )"
   ]
  },
  {
   "cell_type": "code",
   "execution_count": 53,
   "metadata": {},
   "outputs": [
    {
     "output_type": "execute_result",
     "data": {
      "text/plain": "9.210340371976182"
     },
     "metadata": {},
     "execution_count": 53
    }
   ],
   "source": [
    "# verify that when the model predicts close to 0 but the actual label is 1, the loss is a large positive value\n",
    "-1 * np.log(0.0001) # loss is about 9.2\n"
   ]
  },
  {
   "cell_type": "code",
   "execution_count": 54,
   "metadata": {},
   "outputs": [],
   "source": [
    "def gradientDescent(x,y,theta,alpha,num_iters):\n",
    "    '''\n",
    "    Input:\n",
    "\n",
    "        x: matrix of features which is (m,n+1)\n",
    "        y: corresponding labels of the input matrix x, dimensions(m,1)\n",
    "        theta: weight vector of dimension (n+1,1)\n",
    "        alpha: learning rate\n",
    "        num_iters: number of iterations you want to train your model for\n",
    "    Output:\n",
    "        J: the final cost\n",
    "        theta: your final weight vector\n",
    "    Hint: you might want to print the cost to make sure that it is going down\n",
    "    '''\n",
    "    m = len(x)\n",
    "\n",
    "    for i in range(0,num_iters):\n",
    "\n",
    "        z = np.dot(x,theta)\n",
    "        newfunc = np.vectorize(sigmoid)\n",
    "        h = newfunc(z)\n",
    "\n",
    "        term1 = np.dot(np.transpose(y),np.log(h))\n",
    "        term2 = np.dot( np.transpose(1-y),np.log(1-h) )\n",
    "        J = - (1/m) * (term1 + term2)\n",
    "\n",
    "        theta = theta - (alpha/m)*np.dot(np.transpose(x),(h-y))\n",
    "    \n",
    "    J = float(J)\n",
    "    return J,theta"
   ]
  },
  {
   "cell_type": "code",
   "execution_count": 55,
   "metadata": {
    "tags": []
   },
   "outputs": [
    {
     "output_type": "stream",
     "name": "stdout",
     "text": "The cost after training is 0.67094970.\nThe resulting vector of weights is [4.1e-07, 0.00035658, 7.309e-05]\n"
    }
   ],
   "source": [
    "# Check the function\n",
    "# Construct a synthetic test case using numpy PRNG functions\n",
    "np.random.seed(1)\n",
    "# X input is 10 x 3 with ones for the bias terms\n",
    "tmp_X = np.append(np.ones((10, 1)), np.random.rand(10, 2) * 2000, axis=1)\n",
    "# Y Labels are 10 x 1\n",
    "tmp_Y = (np.random.rand(10, 1) > 0.35).astype(float)\n",
    "\n",
    "# Apply gradient descent\n",
    "tmp_J, tmp_theta = gradientDescent(tmp_X, tmp_Y, np.zeros((3, 1)), 1e-8, 700)\n",
    "print(f\"The cost after training is {tmp_J:.8f}.\")\n",
    "print(f\"The resulting vector of weights is {[round(t, 8) for t in np.squeeze(tmp_theta)]}\")"
   ]
  },
  {
   "cell_type": "markdown",
   "metadata": {},
   "source": [
    "# part 2 : extracting features"
   ]
  },
  {
   "cell_type": "code",
   "execution_count": 56,
   "metadata": {},
   "outputs": [],
   "source": [
    "# UNQ_C3\n",
    "def extract_features(tweet,freqs) :\n",
    "    '''\n",
    "    Input:\n",
    "        tweet: a list of words for one tweet\n",
    "        freqs: a dictionary coreesponding to the frequencies of each tuple (word,label)\n",
    "    Output:\n",
    "        x: a feature vector of dimension(1,3)\n",
    "    '''\n",
    "\n",
    "    word_1 = process_tweets(tweet)\n",
    "\n",
    "    x = np.zeros((1,3))\n",
    "\n",
    "    x[0,0] = 1\n",
    "\n",
    "    for word in word_1:\n",
    "        pair_pos = (word,1)\n",
    "        pair_neg = (word,0)\n",
    "\n",
    "        if pair_pos in freqs:\n",
    "            x[0,1] += freqs[pair_pos]\n",
    "        else:\n",
    "            x[0,1] += 0\n",
    "\n",
    "        if pair_neg in freqs:\n",
    "            x[0,2] += freqs[pair_neg]\n",
    "        else:\n",
    "            x[0,2] += 0\n",
    "        \n",
    "    \n",
    "    assert(x.shape==(1,3))\n",
    "    return x\n"
   ]
  },
  {
   "cell_type": "code",
   "execution_count": 57,
   "metadata": {
    "tags": []
   },
   "outputs": [
    {
     "output_type": "stream",
     "name": "stdout",
     "text": "[[1.00e+00 3.02e+03 6.10e+01]]\n"
    }
   ],
   "source": [
    "# Check your function\n",
    "\n",
    "# test 1\n",
    "# test on training data\n",
    "tmp1 = extract_features(train_x[0], freqs)\n",
    "print(tmp1)"
   ]
  },
  {
   "cell_type": "code",
   "execution_count": 58,
   "metadata": {
    "tags": []
   },
   "outputs": [
    {
     "output_type": "stream",
     "name": "stdout",
     "text": "[[1. 0. 0.]]\n"
    }
   ],
   "source": [
    " #test 2:\n",
    "# check for when the words are not in the freqs dictionary\n",
    "tmp2 = extract_features('blorb bleeeeb bloooob', freqs)\n",
    "print(tmp2)"
   ]
  },
  {
   "cell_type": "markdown",
   "metadata": {},
   "source": [
    "# part 3 traning model"
   ]
  },
  {
   "cell_type": "code",
   "execution_count": 59,
   "metadata": {
    "tags": []
   },
   "outputs": [
    {
     "output_type": "stream",
     "name": "stdout",
     "text": "The cost after training is 0.24216529.\nThe resulting vector of weights is [7e-08, 0.0005239, -0.00055517]\n"
    }
   ],
   "source": [
    "# collect the features 'x' and stack them into a matrix 'X'\n",
    "X = np.zeros((len(train_x), 3))\n",
    "for i in range(len(train_x)):\n",
    "    X[i, :]= extract_features(train_x[i], freqs)\n",
    "\n",
    "# training labels corresponding to X\n",
    "Y = train_y\n",
    "\n",
    "# Apply gradient descent\n",
    "J, theta = gradientDescent(X, Y, np.zeros((3, 1)), 1e-9, 1500)\n",
    "print(f\"The cost after training is {J:.8f}.\")\n",
    "print(f\"The resulting vector of weights is {[round(t, 8) for t in np.squeeze(theta)]}\")"
   ]
  },
  {
   "cell_type": "markdown",
   "metadata": {},
   "source": [
    "# part 4 test your logistic regression"
   ]
  },
  {
   "cell_type": "code",
   "execution_count": 68,
   "metadata": {},
   "outputs": [],
   "source": [
    "#UNQ_C4\n",
    "\n",
    "def predict_tweet(tweet,freqs,theta):\n",
    "    '''\n",
    "    input:\n",
    "        tweet: a string\n",
    "        freqs: a dictionary corresponding to the frequencies of each tuple (word,label)\n",
    "        theta: (3,1) vector of weights\n",
    "    Output:\n",
    "        y_pred: the probability of a tweet being positive and negative\n",
    "    '''\n",
    "\n",
    "    x = extract_features(tweet,freqs)\n",
    "\n",
    "    y_pred = sigmoid(np.dot(x,theta))\n",
    "\n",
    "    return y_pred\n"
   ]
  },
  {
   "cell_type": "code",
   "execution_count": 69,
   "metadata": {
    "tags": []
   },
   "outputs": [
    {
     "output_type": "stream",
     "name": "stdout",
     "text": "I am happy -> 0.518580\nI am bad -> 0.494339\nthis movie should have been great. -> 0.515331\ngreat -> 0.515464\ngreat great -> 0.530898\ngreat great great -> 0.546274\ngreat great great great -> 0.561561\n"
    }
   ],
   "source": [
    "# Run this cell to test your function\n",
    "for tweet in ['I am happy', 'I am bad', 'this movie should have been great.', 'great', 'great great', 'great great great', 'great great great great']:\n",
    "    print( '%s -> %f' % (tweet, predict_tweet(tweet, freqs, theta)))"
   ]
  },
  {
   "cell_type": "code",
   "execution_count": 79,
   "metadata": {},
   "outputs": [
    {
     "output_type": "execute_result",
     "data": {
      "text/plain": "0.8163648751301829"
     },
     "metadata": {},
     "execution_count": 79
    }
   ],
   "source": [
    "# Feel free to check the sentiment of your own tweet below\n",
    "my_tweet = 'I am learning :)'\n",
    "predict_tweet(my_tweet, freqs, theta)"
   ]
  },
  {
   "cell_type": "markdown",
   "metadata": {},
   "source": [
    "## check performance using the test set"
   ]
  },
  {
   "cell_type": "code",
   "execution_count": 88,
   "metadata": {},
   "outputs": [],
   "source": [
    "def test_logistic_regression(test_x,test_y,freqs,theta):\n",
    "    y_hat = []\n",
    "\n",
    "    for tweet in test_x :\n",
    "        y_pred = predict_tweet(tweet,freqs,theta)\n",
    "\n",
    "        if y_pred > 0.5 :\n",
    "            y_hat.append(1.0)\n",
    "        else:\n",
    "            y_hat.append(0)\n",
    "        \n",
    "    accuracy = (y_hat == np.squeeze(test_y)).sum() / len(test_x)\n",
    "    return accuracy"
   ]
  },
  {
   "cell_type": "code",
   "execution_count": 89,
   "metadata": {
    "tags": []
   },
   "outputs": [
    {
     "output_type": "stream",
     "name": "stdout",
     "text": "Logistic regression model's accuracy = 0.9950\n"
    }
   ],
   "source": [
    "tmp_accuracy = test_logistic_regression(test_x, test_y, freqs, theta)\n",
    "print(f\"Logistic regression model's accuracy = {tmp_accuracy:.4f}\")"
   ]
  },
  {
   "cell_type": "markdown",
   "metadata": {},
   "source": [
    "# part 5 error analysis"
   ]
  },
  {
   "cell_type": "code",
   "execution_count": 93,
   "metadata": {
    "tags": []
   },
   "outputs": [
    {
     "output_type": "stream",
     "name": "stdout",
     "text": "Label Predicted Tweet\nTHE TWEET IS: @jaredNOTsubway @iluvmariah @Bravotv Then that truly is a LATERAL move! Now, we all know the Queen Bee is UPWARD BOUND : ) #MovingOnUp\nTHE PROCESSED TWEET IS: ['truli', 'later', 'move', 'know', 'queen', 'bee', 'upward', 'bound', 'movingonup']\n1\t0.49996902\tb'truli later move know queen bee upward bound movingonup'\nTHE TWEET IS: @MarkBreech Not sure it would be good thing 4 my bottom daring 2 say 2 Miss B but Im gonna be so stubborn on mouth soaping ! #NotHavingit :p\nTHE PROCESSED TWEET IS: ['sure', 'would', 'good', 'thing', '4', 'bottom', 'dare', '2', 'say', '2', 'miss', 'b', 'im', 'gonna', 'stubborn', 'mouth', 'soap', 'nothavingit', ':p']\n1\t0.48622918\tb'sure would good thing 4 bottom dare 2 say 2 miss b im gonna stubborn mouth soap nothavingit :p'\nTHE TWEET IS: I'm playing Brain Dots : ) #BrainDots\nhttp://t.co/UGQzOx0huu\nTHE PROCESSED TWEET IS: [\"i'm\", 'play', 'brain', 'dot', 'braindot']\n1\t0.48370688\tb\"i'm play brain dot braindot\"\nTHE TWEET IS: I'm playing Brain Dots : ) #BrainDots http://t.co/aOKldo3GMj http://t.co/xWCM9qyRG5\nTHE PROCESSED TWEET IS: [\"i'm\", 'play', 'brain', 'dot', 'braindot']\n1\t0.48370688\tb\"i'm play brain dot braindot\"\nTHE TWEET IS: I'm playing Brain Dots : ) #BrainDots http://t.co/R2JBO8iNww http://t.co/ow5BBwdEMY\nTHE PROCESSED TWEET IS: [\"i'm\", 'play', 'brain', 'dot', 'braindot']\n1\t0.48370688\tb\"i'm play brain dot braindot\"\nTHE TWEET IS: off to the park to get some sunlight : )\nTHE PROCESSED TWEET IS: ['park', 'get', 'sunlight']\n1\t0.49578780\tb'park get sunlight'\nTHE TWEET IS: @msarosh Uff Itna Miss karhy thy ap :p\nTHE PROCESSED TWEET IS: ['uff', 'itna', 'miss', 'karhi', 'thi', 'ap', ':p']\n1\t0.48199826\tb'uff itna miss karhi thi ap :p'\nTHE TWEET IS: @phenomyoutube u probs had more fun with david than me : (\nTHE PROCESSED TWEET IS: ['u', 'prob', 'fun', 'david']\n0\t0.50020368\tb'u prob fun david'\nTHE TWEET IS: pats jay : (\nTHE PROCESSED TWEET IS: ['pat', 'jay']\n0\t0.50039294\tb'pat jay'\nTHE TWEET IS: my beloved grandmother : ( https://t.co/wt4oXq5xCf\nTHE PROCESSED TWEET IS: ['belov', 'grandmoth']\n0\t0.50000002\tb'belov grandmoth'\n"
    }
   ],
   "source": [
    "# Some error analysis done for you\n",
    "print('Label Predicted Tweet')\n",
    "for x,y in zip(test_x,test_y):\n",
    "    y_hat = predict_tweet(x, freqs, theta)\n",
    "\n",
    "    if np.abs(y - (y_hat > 0.5)) > 0:\n",
    "        print('THE TWEET IS:', x)\n",
    "        print('THE PROCESSED TWEET IS:', process_tweets(x))\n",
    "        print('%d\\t%0.8f\\t%s' % (y, y_hat, ' '.join(process_tweets(x)).encode('ascii', 'ignore')))"
   ]
  },
  {
   "cell_type": "markdown",
   "metadata": {},
   "source": [
    "# part 6 predict with your own tweet"
   ]
  },
  {
   "cell_type": "code",
   "execution_count": 104,
   "metadata": {
    "tags": []
   },
   "outputs": [
    {
     "output_type": "stream",
     "name": "stdout",
     "text": "['disappoint', 'know', 'bound', 'day', 'ruin']\n0.506990608084016\nPositive sentiment\n"
    }
   ],
   "source": [
    "# Feel free to change the tweet below\n",
    "my_tweet = 'My disappointment knows no bound and my day is ruined'\n",
    "print(process_tweets(my_tweet))\n",
    "y_hat = predict_tweet(my_tweet, freqs, theta)\n",
    "print(y_hat)\n",
    "if y_hat > 0.5:\n",
    "    print('Positive sentiment')\n",
    "else: \n",
    "    print('Negative sentiment')"
   ]
  },
  {
   "cell_type": "code",
   "execution_count": null,
   "metadata": {},
   "outputs": [],
   "source": []
  }
 ],
 "metadata": {
  "kernelspec": {
   "display_name": "python3NLP",
   "language": "python",
   "name": "python3nlp"
  },
  "language_info": {
   "codemirror_mode": {
    "name": "ipython",
    "version": 3
   },
   "file_extension": ".py",
   "mimetype": "text/x-python",
   "name": "python",
   "nbconvert_exporter": "python",
   "pygments_lexer": "ipython3",
   "version": "3.7.7-final"
  }
 },
 "nbformat": 4,
 "nbformat_minor": 2
}