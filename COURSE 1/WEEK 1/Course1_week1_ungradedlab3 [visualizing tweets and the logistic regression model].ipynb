{
 "cells": [
  {
   "cell_type": "markdown",
   "metadata": {},
   "source": [
    "# VISUALIZING TWEETS AND THE LOGISTIC REGRESSION MODEL"
   ]
  },
  {
   "cell_type": "code",
   "execution_count": 2,
   "metadata": {
    "ExecuteTime": {
     "end_time": "2020-08-01T13:59:39.157891Z",
     "start_time": "2020-08-01T13:59:39.141887Z"
    }
   },
   "outputs": [],
   "source": [
    "import nltk     # nlp toolbox\n",
    "import pandas as pd  # library for datframs\n",
    "import matplotlib.pyplot as plt \n",
    "import numpy as np\n",
    "from nltk.corpus import twitter_samples \n",
    "\n"
   ]
  },
  {
   "cell_type": "code",
   "execution_count": 10,
   "metadata": {
    "tags": []
   },
   "outputs": [
    {
     "output_type": "stream",
     "name": "stdout",
     "text": "number of tweets :  8000\n"
    }
   ],
   "source": [
    "# select the set of positive tweets and negative ones\n",
    "all_positive_tweets = twitter_samples.strings('positive_tweets.json')\n",
    "all_negative_tweets = twitter_samples.strings('negative_tweets.json')\n",
    "\n",
    "tweets = all_positive_tweets + all_negative_tweets\n",
    "labels = np.append( np.ones((len(all_positive_tweets),1)), np.zeros((len(all_negative_tweets),1)) , axis = 0 )\n",
    "\n",
    "#split the data into two pieces , one for training and one for testing\n",
    "train_pos = all_positive_tweets[:4000]\n",
    "train_neg = all_negative_tweets[:4000]\n",
    "\n",
    "train_x = train_pos + train_neg\n",
    "\n",
    "print(\"number of tweets : \", len(train_x))\n"
   ]
  },
  {
   "cell_type": "code",
   "execution_count": 12,
   "metadata": {},
   "outputs": [],
   "source": [
    "data = pd.read_csv('losgistic_features.csv')\n",
    "data.head(10)"
   ]
  },
  {
   "cell_type": "code",
   "execution_count": null,
   "metadata": {},
   "outputs": [],
   "source": [
    "# each feature is labeled as bias , positive and negative\n",
    "X = data[['bias' , 'positive' ,'negative']].values\n",
    "Y = data['sentiment'].values\n",
    "\n",
    "print(X.shape)\n",
    "print(X)"
   ]
  },
  {
   "cell_type": "code",
   "execution_count": 13,
   "metadata": {},
   "outputs": [],
   "source": [
    "#logistic regression model must be trained . the next step contains a model made from such training, a list of three numerical values represent the whole model\n",
    "theta = [7e-08 , 0.0005239 , -0.00055517]"
   ]
  },
  {
   "cell_type": "markdown",
   "metadata": {},
   "source": [
    "the vector theta represents a plane that split our feature space in two parts . samples located over that plane are considered positive, and samples located under that plane are considered negative. remeber that we have a 3d feature space ie each tweet is represented as a vector comprised of three values [bias,positive_sum,negative_sum] alwaysa having bias 1.\n",
    "\n",
    "if we ignopre the bias term we can plot eacch tweet ina cartsiean plane using positive_sum and negative_sum "
   ]
  },
  {
   "cell_type": "code",
   "execution_count": null,
   "metadata": {},
   "outputs": [],
   "source": [
    "#plot the sample using the col 1 and 2 of the martrix\n",
    "fig,ax = plt.subplots(figsize = (8,8))\n",
    "\n",
    "colors = ['red' , 'green']\n",
    "\n",
    "#color based on the sentiment Y\n",
    "ax.scatter (X[:1] , X[:2] , c = [colors[int(k)] for k in Y] , s=0.1) #plot the dot for each pair of waords\n",
    "\n",
    "plt.xlabel(\"positive\")\n",
    "plt.ylabel(\"negative\")"
   ]
  },
  {
   "cell_type": "markdown",
   "metadata": {},
   "source": [
    "THIS NOTEBOOK CANT BE COMPLETEED BECAUSE WE DONT HAVE THE LOGISTIC MODEL CSV FILE"
   ]
  },
  {
   "cell_type": "code",
   "execution_count": null,
   "metadata": {},
   "outputs": [],
   "source": []
  }
 ],
 "metadata": {
  "kernelspec": {
   "display_name": "Python 3",
   "language": "python",
   "name": "python3"
  },
  "language_info": {
   "codemirror_mode": {
    "name": "ipython",
    "version": 3
   },
   "file_extension": ".py",
   "mimetype": "text/x-python",
   "name": "python",
   "nbconvert_exporter": "python",
   "pygments_lexer": "ipython3",
   "version": "3.7.7-final"
  }
 },
 "nbformat": 4,
 "nbformat_minor": 4
}